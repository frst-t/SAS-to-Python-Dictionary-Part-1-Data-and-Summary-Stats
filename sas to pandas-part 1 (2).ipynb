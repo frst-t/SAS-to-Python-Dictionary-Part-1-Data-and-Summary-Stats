{
 "cells": [
  {
   "cell_type": "markdown",
   "metadata": {},
   "source": [
    "<center><a href=\"https://www.linkedin.com/pub/forrester-wilson/13/53/1b0\" style=\"text-decoration:none;\"><span style=\"font: 80% Arial,sans-serif; color:#0783B6;\"><img src=\"https://static.licdn.com/scds/common/u/img/webpromo/btn_in_20x15.png\" width=\"20\" height=\"15\" alt=\"View Forrester Wilson's LinkedIn profile\" style=\"vertical-align:middle;\" border=\"0\">&nbsp;View Forrester Wilson's profile</span></a></center>"
   ]
  },
  {
   "cell_type": "markdown",
   "metadata": {},
   "source": [
    "\n",
    "<h1>SAS to Python Dictionary</h1><h3> A guide for using python from a SAS background. </h3> \n",
    "<span>&ensp;&ensp; The easiest way to get python with all the needed libraries is to download <a href=\"https://docs.continuum.io/anaconda/install\">ANACONDA</a>. The dictionary was written in an environment that only allowed Python 2.7; ideally, you should use the latest version of Python 3. Fortunately,in these examples, the difference between 2.7 and 3 is small. \n",
    "\n",
    "&ensp;&ensp; This document was created in the Jupyter development environment provided with Anaconda. This environment allows you to create a document with executeable code.  Thus anyone(including you) can recreate your results.\n",
    "</span>"
   ]
  },
  {
   "cell_type": "markdown",
   "metadata": {},
   "source": [
    "**getting started** Python manages functionality through libraries.The best python library to analyze data is Pandas. It is optimized to execute quickly and provides intuitive commands. The syntax for importing is below. The standard is to give it the alias pd. The second line is to display output in the document."
   ]
  },
  {
   "cell_type": "code",
   "execution_count": 30,
   "metadata": {
    "collapsed": true
   },
   "outputs": [],
   "source": [
    "import pandas as pd\n",
    "from IPython.display import display"
   ]
  },
  {
   "cell_type": "markdown",
   "metadata": {},
   "source": [
    "## SAS Procedures covered: \n",
    "The first step should be read through each example. Then, you can go directly to the Pandas syntax by clicking on the SAS procedure you want to translate.\n",
    "* [Data Step with CARDS](#first-bullet)\n",
    "* [PROC CONTENTS](#second-bullet)\n",
    "* [PROC PRINT](#third-bullet)\n",
    "* [PROC SUMMARY](#fourth-bullet)\n",
    "* [PROC FREQ](#fifth-bullet)\n",
    "* [PROC MEANS](#sixth-bullet)\n",
    "* [DATA step with SAS datasets](#seventh-bullet)\n",
    "* [PROC IMPORT](#eigth-bullet)\n",
    "* [SIMPLE CALCULATIONS](#ninth-bullet)\n",
    "* [CALCULATIONS WITH IF STATEMENT](#tenth-bullet)\n",
    "* [CALCULATIONS WITH ELSE IF STATEMENT](#eleventh-bullet)\n",
    "* [PROC FORMAT](#twelth-bullet)\n",
    "* [PROC EXPORT](#thirteenth-bullet)\n",
    "\n"
   ]
  },
  {
   "cell_type": "markdown",
   "metadata": {},
   "source": [
    "Let's start by creating a simple data set to explore"
   ]
  },
  {
   "cell_type": "markdown",
   "metadata": {},
   "source": [
    "<a class=\"anchor\" id=\"first-bullet\"></a>\n",
    "<center> <h2> SAS data step with CARDS =  Pandas DataFrame</h2></center>\n",
    "&ensp;&ensp;In SAS manually creating data is typically done with the cards or datalines command. For Pandas you use the DataFrame method. This data set is used in the early examples. For an explanation on loading files see \"PROC IMPORT\" later in this document. \n"
   ]
  },
  {
   "cell_type": "markdown",
   "metadata": {},
   "source": [
    "**SAS**"
   ]
  },
  {
   "cell_type": "markdown",
   "metadata": {},
   "source": [
    "    DATA sasdat;  \n",
    "        INPUT segment $ revenue  loss ;  \n",
    "        DATALINES;  \n",
    "    subprime  5 -1  \n",
    "    midprime  4  0  \n",
    "    prime     3  0  \n",
    "    midprime  5  -2  \n",
    "    prime     4  0  \n",
    "    midprime  5 0  \n",
    "    subprime  6  0  \n",
    "   \n",
    "    PROC PRINT; RUN;  "
   ]
  },
  {
   "cell_type": "markdown",
   "metadata": {},
   "source": [
    "**PANDAS**  \n",
    "Data sets in Pandas are referred to as data frames. Use the DataFrame method to create a new dataset."
   ]
  },
  {
   "cell_type": "code",
   "execution_count": 31,
   "metadata": {
    "collapsed": false
   },
   "outputs": [],
   "source": [
    "df=pd.DataFrame({'segment': ['subprime', 'midprime', 'prime', 'midprime', 'prime', 'midprime', 'subprime']\n",
    "                ,'revenue': [5,4,3,5,4,5,6]\n",
    "                ,'loss': [-1, 0, 0, -2, 0, 0, 0]})"
   ]
  },
  {
   "cell_type": "markdown",
   "metadata": {},
   "source": [
    "In the above code you create a dataframe called df and it has three variables: segment, revenue and loss. The values associated with variables are in the square brackets. To view the dataframe type either its name or "
   ]
  },
  {
   "cell_type": "code",
   "execution_count": 32,
   "metadata": {
    "collapsed": false
   },
   "outputs": [
    {
     "data": {
      "text/html": [
       "<div>\n",
       "<table border=\"1\" class=\"dataframe\">\n",
       "  <thead>\n",
       "    <tr style=\"text-align: right;\">\n",
       "      <th></th>\n",
       "      <th>loss</th>\n",
       "      <th>revenue</th>\n",
       "      <th>segment</th>\n",
       "    </tr>\n",
       "  </thead>\n",
       "  <tbody>\n",
       "    <tr>\n",
       "      <th>0</th>\n",
       "      <td>-1</td>\n",
       "      <td>5</td>\n",
       "      <td>subprime</td>\n",
       "    </tr>\n",
       "    <tr>\n",
       "      <th>1</th>\n",
       "      <td>0</td>\n",
       "      <td>4</td>\n",
       "      <td>midprime</td>\n",
       "    </tr>\n",
       "    <tr>\n",
       "      <th>2</th>\n",
       "      <td>0</td>\n",
       "      <td>3</td>\n",
       "      <td>prime</td>\n",
       "    </tr>\n",
       "    <tr>\n",
       "      <th>3</th>\n",
       "      <td>-2</td>\n",
       "      <td>5</td>\n",
       "      <td>midprime</td>\n",
       "    </tr>\n",
       "    <tr>\n",
       "      <th>4</th>\n",
       "      <td>0</td>\n",
       "      <td>4</td>\n",
       "      <td>prime</td>\n",
       "    </tr>\n",
       "    <tr>\n",
       "      <th>5</th>\n",
       "      <td>0</td>\n",
       "      <td>5</td>\n",
       "      <td>midprime</td>\n",
       "    </tr>\n",
       "    <tr>\n",
       "      <th>6</th>\n",
       "      <td>0</td>\n",
       "      <td>6</td>\n",
       "      <td>subprime</td>\n",
       "    </tr>\n",
       "  </tbody>\n",
       "</table>\n",
       "</div>"
      ],
      "text/plain": [
       "   loss  revenue   segment\n",
       "0    -1        5  subprime\n",
       "1     0        4  midprime\n",
       "2     0        3     prime\n",
       "3    -2        5  midprime\n",
       "4     0        4     prime\n",
       "5     0        5  midprime\n",
       "6     0        6  subprime"
      ]
     },
     "metadata": {},
     "output_type": "display_data"
    }
   ],
   "source": [
    "display(df)"
   ]
  },
  {
   "cell_type": "markdown",
   "metadata": {},
   "source": [
    "Add some variables:"
   ]
  },
  {
   "cell_type": "code",
   "execution_count": 33,
   "metadata": {
    "collapsed": true
   },
   "outputs": [],
   "source": [
    "df['debt']=['high','low', 'high', 'low', 'low', 'low', 'low']\n",
    "df['sales']=['low','medium', 'high', 'medium', 'medium', 'low', 'low']"
   ]
  },
  {
   "cell_type": "markdown",
   "metadata": {},
   "source": [
    "\n",
    "<a class=\"anchor\" id=\"second-bullet\"></a>\n",
    "<center> <h2> PROC CONTENTS  = columns and shape </h2> </center>\n",
    "&ensp;&ensp;proc contents provides two key peices of information: variable names and number of observations.\n",
    "To get the variable names in Pandas call the columns attribute. To get the number of observations use the shape attribute."
   ]
  },
  {
   "cell_type": "markdown",
   "metadata": {},
   "source": [
    "**SAS**"
   ]
  },
  {
   "cell_type": "markdown",
   "metadata": {
    "collapsed": false
   },
   "source": [
    "    proc contents data=sasdat; \n",
    "    run;"
   ]
  },
  {
   "cell_type": "markdown",
   "metadata": {},
   "source": [
    "**PANDAS**  \n",
    "To get the variable names just call the data frames attribute \"columns\""
   ]
  },
  {
   "cell_type": "code",
   "execution_count": 34,
   "metadata": {
    "collapsed": false,
    "scrolled": true
   },
   "outputs": [
    {
     "data": {
      "text/plain": [
       "Index([u'loss', u'revenue', u'segment', u'debt', u'sales'], dtype='object')"
      ]
     },
     "execution_count": 34,
     "metadata": {},
     "output_type": "execute_result"
    }
   ],
   "source": [
    "df.columns"
   ]
  },
  {
   "cell_type": "markdown",
   "metadata": {},
   "source": [
    "To get the number of observations use the shape attribute. The first value is the number of observations. The second is the number of variables"
   ]
  },
  {
   "cell_type": "code",
   "execution_count": 35,
   "metadata": {
    "collapsed": false
   },
   "outputs": [
    {
     "data": {
      "text/plain": [
       "(7, 5)"
      ]
     },
     "execution_count": 35,
     "metadata": {},
     "output_type": "execute_result"
    }
   ],
   "source": [
    "df.shape"
   ]
  },
  {
   "cell_type": "code",
   "execution_count": 36,
   "metadata": {
    "collapsed": false
   },
   "outputs": [
    {
     "name": "stdout",
     "output_type": "stream",
     "text": [
      "the number of observations are 7\n",
      "the number of columns are 5\n"
     ]
    }
   ],
   "source": [
    "obs, columns= df.shape\n",
    "print 'the number of observations are ' + str(obs)\n",
    "print 'the number of columns are ' + str(columns)"
   ]
  },
  {
   "cell_type": "markdown",
   "metadata": {},
   "source": [
    "\n",
    "<a class=\"anchor\" id=\"third-bullet\"></a>\n",
    "<center><h2>PROC PRINT = head"
   ]
  },
  {
   "cell_type": "markdown",
   "metadata": {},
   "source": [
    "**SAS**"
   ]
  },
  {
   "cell_type": "markdown",
   "metadata": {
    "collapsed": true
   },
   "source": [
    "    proc print data=sasdat (obs=2);\n",
    "    var segment;\n",
    "    run;"
   ]
  },
  {
   "cell_type": "markdown",
   "metadata": {},
   "source": [
    "**PANDAS**  \n",
    "There are a couple of ways to view particular values in pandas. One way is to use the heads method"
   ]
  },
  {
   "cell_type": "code",
   "execution_count": 37,
   "metadata": {
    "collapsed": false
   },
   "outputs": [
    {
     "data": {
      "text/plain": [
       "0    subprime\n",
       "1    midprime\n",
       "Name: segment, dtype: object"
      ]
     },
     "execution_count": 37,
     "metadata": {},
     "output_type": "execute_result"
    }
   ],
   "source": [
    "df.segment.head(n=2)"
   ]
  },
  {
   "cell_type": "markdown",
   "metadata": {},
   "source": [
    "The syntax is datframe.variable.head(n=number of observaions). So in this example we want to view, from the dataframe df the first 2 observations of the variable or column segment"
   ]
  },
  {
   "cell_type": "markdown",
   "metadata": {},
   "source": [
    "\n",
    "<a class=\"anchor\" id=\"fourth-bullet\"></a>\n",
    "<center><h2>PROC Summary = groupby"
   ]
  },
  {
   "cell_type": "markdown",
   "metadata": {},
   "source": [
    "**SAS**"
   ]
  },
  {
   "cell_type": "markdown",
   "metadata": {},
   "source": [
    "    proc summary data=sasdat sum;\n",
    "        class segment;\n",
    "        var profit;\n",
    "        output out=newdat;\n",
    "    run;\n"
   ]
  },
  {
   "cell_type": "markdown",
   "metadata": {},
   "source": [
    "**PANDAS**  \n",
    "When trying to get descriptive values by different classes or segments use groupby method with mean, sum, count, ..."
   ]
  },
  {
   "cell_type": "code",
   "execution_count": 38,
   "metadata": {
    "collapsed": false
   },
   "outputs": [],
   "source": [
    "newdat=df.groupby('segment', as_index=False).sum()"
   ]
  },
  {
   "cell_type": "markdown",
   "metadata": {},
   "source": [
    "In the code you will see \"as_index=false\". For SAS users indexes are an unfamiliar concept. If you think of variable names as column labels think of an index as a row label. Since most SAS users never refer to rows in particular or refer to them based on conditions they generally will want to make sure that they don't use indexes.\n",
    "\n",
    "In SAS proc summary will drop values where the class variable is missing. So will groupby. To keep missing values replace the values with fillna() method\n",
    "\n",
    "below we replace any missing profit values with zero"
   ]
  },
  {
   "cell_type": "code",
   "execution_count": 39,
   "metadata": {
    "collapsed": false
   },
   "outputs": [],
   "source": [
    "df['loss'].fillna(0, inplace=True)"
   ]
  },
  {
   "cell_type": "markdown",
   "metadata": {},
   "source": [
    "inplace=True condition makes the code compact. Without the condition the following would have to be written:\n",
    "        df=df['loss'].fillna(0)"
   ]
  },
  {
   "cell_type": "markdown",
   "metadata": {},
   "source": [
    "\n",
    "<a class=\"anchor\" id=\"fifth-bullet\"></a>\n",
    "<center><h2>PROC FREQ= groupby or unique"
   ]
  },
  {
   "cell_type": "markdown",
   "metadata": {},
   "source": [
    "**SAS**       "
   ]
  },
  {
   "cell_type": "markdown",
   "metadata": {
    "collapsed": true
   },
   "source": [
    "    proc freq data=sasdat;\n",
    "        tables segment;\n",
    "    run;"
   ]
  },
  {
   "cell_type": "markdown",
   "metadata": {},
   "source": [
    "**PANDAS**"
   ]
  },
  {
   "cell_type": "code",
   "execution_count": 40,
   "metadata": {
    "collapsed": false,
    "scrolled": true
   },
   "outputs": [
    {
     "data": {
      "text/html": [
       "<div>\n",
       "<table border=\"1\" class=\"dataframe\">\n",
       "  <thead>\n",
       "    <tr style=\"text-align: right;\">\n",
       "      <th></th>\n",
       "      <th>loss</th>\n",
       "      <th>revenue</th>\n",
       "      <th>debt</th>\n",
       "      <th>sales</th>\n",
       "    </tr>\n",
       "    <tr>\n",
       "      <th>segment</th>\n",
       "      <th></th>\n",
       "      <th></th>\n",
       "      <th></th>\n",
       "      <th></th>\n",
       "    </tr>\n",
       "  </thead>\n",
       "  <tbody>\n",
       "    <tr>\n",
       "      <th>midprime</th>\n",
       "      <td>3</td>\n",
       "      <td>3</td>\n",
       "      <td>3</td>\n",
       "      <td>3</td>\n",
       "    </tr>\n",
       "    <tr>\n",
       "      <th>prime</th>\n",
       "      <td>2</td>\n",
       "      <td>2</td>\n",
       "      <td>2</td>\n",
       "      <td>2</td>\n",
       "    </tr>\n",
       "    <tr>\n",
       "      <th>subprime</th>\n",
       "      <td>2</td>\n",
       "      <td>2</td>\n",
       "      <td>2</td>\n",
       "      <td>2</td>\n",
       "    </tr>\n",
       "  </tbody>\n",
       "</table>\n",
       "</div>"
      ],
      "text/plain": [
       "          loss  revenue  debt  sales\n",
       "segment                             \n",
       "midprime     3        3     3      3\n",
       "prime        2        2     2      2\n",
       "subprime     2        2     2      2"
      ]
     },
     "execution_count": 40,
     "metadata": {},
     "output_type": "execute_result"
    }
   ],
   "source": [
    "df.groupby('segment').count()"
   ]
  },
  {
   "cell_type": "markdown",
   "metadata": {},
   "source": [
    "**or**"
   ]
  },
  {
   "cell_type": "code",
   "execution_count": 41,
   "metadata": {
    "collapsed": false
   },
   "outputs": [
    {
     "data": {
      "text/plain": [
       "array(['subprime', 'midprime', 'prime'], dtype=object)"
      ]
     },
     "execution_count": 41,
     "metadata": {},
     "output_type": "execute_result"
    }
   ],
   "source": [
    "df['segment'].unique()"
   ]
  },
  {
   "cell_type": "markdown",
   "metadata": {},
   "source": [
    "\n",
    "\n",
    "<center><h2> PROC FREQ multple variables = pivot_table"
   ]
  },
  {
   "cell_type": "markdown",
   "metadata": {},
   "source": [
    "**SAS**"
   ]
  },
  {
   "cell_type": "markdown",
   "metadata": {},
   "source": [
    "    proc freq data= sasdat; \n",
    "        tables segment*debt;\n",
    "    run;"
   ]
  },
  {
   "cell_type": "markdown",
   "metadata": {},
   "source": [
    "**PANDAS**  \n",
    "in this example using the pivot table method to get the volume in each segment by debt classification"
   ]
  },
  {
   "cell_type": "code",
   "execution_count": 42,
   "metadata": {
    "collapsed": false
   },
   "outputs": [
    {
     "data": {
      "text/html": [
       "<div>\n",
       "<table border=\"1\" class=\"dataframe\">\n",
       "  <thead>\n",
       "    <tr style=\"text-align: right;\">\n",
       "      <th>debt</th>\n",
       "      <th>high</th>\n",
       "      <th>low</th>\n",
       "      <th>All</th>\n",
       "    </tr>\n",
       "    <tr>\n",
       "      <th>segment</th>\n",
       "      <th></th>\n",
       "      <th></th>\n",
       "      <th></th>\n",
       "    </tr>\n",
       "  </thead>\n",
       "  <tbody>\n",
       "    <tr>\n",
       "      <th>midprime</th>\n",
       "      <td>NaN</td>\n",
       "      <td>3.0</td>\n",
       "      <td>3.0</td>\n",
       "    </tr>\n",
       "    <tr>\n",
       "      <th>prime</th>\n",
       "      <td>1.0</td>\n",
       "      <td>1.0</td>\n",
       "      <td>2.0</td>\n",
       "    </tr>\n",
       "    <tr>\n",
       "      <th>subprime</th>\n",
       "      <td>1.0</td>\n",
       "      <td>1.0</td>\n",
       "      <td>2.0</td>\n",
       "    </tr>\n",
       "    <tr>\n",
       "      <th>All</th>\n",
       "      <td>2.0</td>\n",
       "      <td>5.0</td>\n",
       "      <td>7.0</td>\n",
       "    </tr>\n",
       "  </tbody>\n",
       "</table>\n",
       "</div>"
      ],
      "text/plain": [
       "debt      high  low  All\n",
       "segment                 \n",
       "midprime   NaN  3.0  3.0\n",
       "prime      1.0  1.0  2.0\n",
       "subprime   1.0  1.0  2.0\n",
       "All        2.0  5.0  7.0"
      ]
     },
     "execution_count": 42,
     "metadata": {},
     "output_type": "execute_result"
    }
   ],
   "source": [
    "df.pivot_table(values='loss', index='segment', columns='debt', margins=True, aggfunc='count')"
   ]
  },
  {
   "cell_type": "markdown",
   "metadata": {},
   "source": [
    "\n",
    "<a class=\"anchor\" id=\"sixth-bullet\"></a>\n",
    "<center><h2> PROC MEANS = describe"
   ]
  },
  {
   "cell_type": "markdown",
   "metadata": {},
   "source": [
    "**SAS**"
   ]
  },
  {
   "cell_type": "markdown",
   "metadata": {},
   "source": [
    "    proc means data=sasdat;\n",
    "        var loss revenue;\n",
    "    run;"
   ]
  },
  {
   "cell_type": "markdown",
   "metadata": {},
   "source": [
    "**PANDAS** \n",
    "\n",
    "to get basic statistics in pandas use the describe method"
   ]
  },
  {
   "cell_type": "code",
   "execution_count": 43,
   "metadata": {
    "collapsed": false
   },
   "outputs": [
    {
     "data": {
      "text/html": [
       "<div>\n",
       "<table border=\"1\" class=\"dataframe\">\n",
       "  <thead>\n",
       "    <tr style=\"text-align: right;\">\n",
       "      <th></th>\n",
       "      <th>loss</th>\n",
       "      <th>revenue</th>\n",
       "    </tr>\n",
       "  </thead>\n",
       "  <tbody>\n",
       "    <tr>\n",
       "      <th>count</th>\n",
       "      <td>7.000000</td>\n",
       "      <td>7.000000</td>\n",
       "    </tr>\n",
       "    <tr>\n",
       "      <th>mean</th>\n",
       "      <td>-0.428571</td>\n",
       "      <td>4.571429</td>\n",
       "    </tr>\n",
       "    <tr>\n",
       "      <th>std</th>\n",
       "      <td>0.786796</td>\n",
       "      <td>0.975900</td>\n",
       "    </tr>\n",
       "    <tr>\n",
       "      <th>min</th>\n",
       "      <td>-2.000000</td>\n",
       "      <td>3.000000</td>\n",
       "    </tr>\n",
       "    <tr>\n",
       "      <th>25%</th>\n",
       "      <td>-0.500000</td>\n",
       "      <td>4.000000</td>\n",
       "    </tr>\n",
       "    <tr>\n",
       "      <th>50%</th>\n",
       "      <td>0.000000</td>\n",
       "      <td>5.000000</td>\n",
       "    </tr>\n",
       "    <tr>\n",
       "      <th>75%</th>\n",
       "      <td>0.000000</td>\n",
       "      <td>5.000000</td>\n",
       "    </tr>\n",
       "    <tr>\n",
       "      <th>max</th>\n",
       "      <td>0.000000</td>\n",
       "      <td>6.000000</td>\n",
       "    </tr>\n",
       "  </tbody>\n",
       "</table>\n",
       "</div>"
      ],
      "text/plain": [
       "           loss   revenue\n",
       "count  7.000000  7.000000\n",
       "mean  -0.428571  4.571429\n",
       "std    0.786796  0.975900\n",
       "min   -2.000000  3.000000\n",
       "25%   -0.500000  4.000000\n",
       "50%    0.000000  5.000000\n",
       "75%    0.000000  5.000000\n",
       "max    0.000000  6.000000"
      ]
     },
     "execution_count": 43,
     "metadata": {},
     "output_type": "execute_result"
    }
   ],
   "source": [
    "df.describe()"
   ]
  },
  {
   "cell_type": "markdown",
   "metadata": {},
   "source": [
    "You can also just pick the variables you want describe. The code below will return just the summary statistics for the variable loss"
   ]
  },
  {
   "cell_type": "code",
   "execution_count": 44,
   "metadata": {
    "collapsed": false,
    "scrolled": false
   },
   "outputs": [
    {
     "data": {
      "text/plain": [
       "count    7.000000\n",
       "mean    -0.428571\n",
       "std      0.786796\n",
       "min     -2.000000\n",
       "25%     -0.500000\n",
       "50%      0.000000\n",
       "75%      0.000000\n",
       "max      0.000000\n",
       "Name: loss, dtype: float64"
      ]
     },
     "execution_count": 44,
     "metadata": {},
     "output_type": "execute_result"
    }
   ],
   "source": [
    "df.loss.describe()"
   ]
  },
  {
   "cell_type": "markdown",
   "metadata": {},
   "source": [
    "\n",
    "\n",
    "\n",
    "\n",
    "\n",
    "\n",
    "<center><h2>PROC MEANS several variables = pivot_table or groupby"
   ]
  },
  {
   "cell_type": "markdown",
   "metadata": {},
   "source": [
    "**SAS**"
   ]
  },
  {
   "cell_type": "markdown",
   "metadata": {},
   "source": [
    "    proc means data=sasdat sum;\n",
    "        class segment debt;\n",
    "        var loss revenue;\n",
    "    run;"
   ]
  },
  {
   "cell_type": "markdown",
   "metadata": {},
   "source": [
    "**PANDAS**  \n",
    "get the sum by the class variables"
   ]
  },
  {
   "cell_type": "code",
   "execution_count": 45,
   "metadata": {
    "collapsed": false,
    "scrolled": true
   },
   "outputs": [
    {
     "data": {
      "text/html": [
       "<div>\n",
       "<table border=\"1\" class=\"dataframe\">\n",
       "  <thead>\n",
       "    <tr style=\"text-align: right;\">\n",
       "      <th>debt</th>\n",
       "      <th>high</th>\n",
       "      <th>low</th>\n",
       "      <th>All</th>\n",
       "    </tr>\n",
       "    <tr>\n",
       "      <th>segment</th>\n",
       "      <th></th>\n",
       "      <th></th>\n",
       "      <th></th>\n",
       "    </tr>\n",
       "  </thead>\n",
       "  <tbody>\n",
       "    <tr>\n",
       "      <th>midprime</th>\n",
       "      <td>NaN</td>\n",
       "      <td>-2.0</td>\n",
       "      <td>-2.0</td>\n",
       "    </tr>\n",
       "    <tr>\n",
       "      <th>prime</th>\n",
       "      <td>0.0</td>\n",
       "      <td>0.0</td>\n",
       "      <td>0.0</td>\n",
       "    </tr>\n",
       "    <tr>\n",
       "      <th>subprime</th>\n",
       "      <td>-1.0</td>\n",
       "      <td>0.0</td>\n",
       "      <td>-1.0</td>\n",
       "    </tr>\n",
       "    <tr>\n",
       "      <th>All</th>\n",
       "      <td>-1.0</td>\n",
       "      <td>-2.0</td>\n",
       "      <td>-3.0</td>\n",
       "    </tr>\n",
       "  </tbody>\n",
       "</table>\n",
       "</div>"
      ],
      "text/plain": [
       "debt      high  low  All\n",
       "segment                 \n",
       "midprime   NaN -2.0 -2.0\n",
       "prime      0.0  0.0  0.0\n",
       "subprime  -1.0  0.0 -1.0\n",
       "All       -1.0 -2.0 -3.0"
      ]
     },
     "execution_count": 45,
     "metadata": {},
     "output_type": "execute_result"
    }
   ],
   "source": [
    "df.pivot_table(values='loss', index='segment', columns='debt', margins=True, aggfunc='sum')"
   ]
  },
  {
   "cell_type": "markdown",
   "metadata": {},
   "source": [
    "Value is the analysis variable; in this case, profit. The rows are the index, this time set to the variable segment. Columns are columns set to debt. Setting margins=True means we will get row and column totals. Finally we want to sum the profit and thus set the aggregation function equal to sum aggfunc='sum'"
   ]
  },
  {
   "cell_type": "markdown",
   "metadata": {},
   "source": [
    "The default aggfunc is the mean statistic. So to get the mean you leave off the aggfunc keyword."
   ]
  },
  {
   "cell_type": "code",
   "execution_count": 46,
   "metadata": {
    "collapsed": false,
    "scrolled": true
   },
   "outputs": [
    {
     "data": {
      "text/html": [
       "<div>\n",
       "<table border=\"1\" class=\"dataframe\">\n",
       "  <thead>\n",
       "    <tr style=\"text-align: right;\">\n",
       "      <th>debt</th>\n",
       "      <th>high</th>\n",
       "      <th>low</th>\n",
       "      <th>All</th>\n",
       "    </tr>\n",
       "    <tr>\n",
       "      <th>segment</th>\n",
       "      <th></th>\n",
       "      <th></th>\n",
       "      <th></th>\n",
       "    </tr>\n",
       "  </thead>\n",
       "  <tbody>\n",
       "    <tr>\n",
       "      <th>midprime</th>\n",
       "      <td>NaN</td>\n",
       "      <td>-0.666667</td>\n",
       "      <td>-0.666667</td>\n",
       "    </tr>\n",
       "    <tr>\n",
       "      <th>prime</th>\n",
       "      <td>0.0</td>\n",
       "      <td>0.000000</td>\n",
       "      <td>0.000000</td>\n",
       "    </tr>\n",
       "    <tr>\n",
       "      <th>subprime</th>\n",
       "      <td>-1.0</td>\n",
       "      <td>0.000000</td>\n",
       "      <td>-0.500000</td>\n",
       "    </tr>\n",
       "    <tr>\n",
       "      <th>All</th>\n",
       "      <td>-0.5</td>\n",
       "      <td>-0.400000</td>\n",
       "      <td>-0.428571</td>\n",
       "    </tr>\n",
       "  </tbody>\n",
       "</table>\n",
       "</div>"
      ],
      "text/plain": [
       "debt      high       low       All\n",
       "segment                           \n",
       "midprime   NaN -0.666667 -0.666667\n",
       "prime      0.0  0.000000  0.000000\n",
       "subprime  -1.0  0.000000 -0.500000\n",
       "All       -0.5 -0.400000 -0.428571"
      ]
     },
     "execution_count": 46,
     "metadata": {},
     "output_type": "execute_result"
    }
   ],
   "source": [
    "df.pivot_table(values='loss', index='segment', columns='debt', margins=True, )"
   ]
  },
  {
   "cell_type": "markdown",
   "metadata": {},
   "source": [
    " To calcuate the max the aggfunc keword is 'max'"
   ]
  },
  {
   "cell_type": "code",
   "execution_count": 47,
   "metadata": {
    "collapsed": false
   },
   "outputs": [
    {
     "data": {
      "text/html": [
       "<div>\n",
       "<table border=\"1\" class=\"dataframe\">\n",
       "  <thead>\n",
       "    <tr>\n",
       "      <th></th>\n",
       "      <th colspan=\"5\" halign=\"left\">loss</th>\n",
       "      <th colspan=\"5\" halign=\"left\">revenue</th>\n",
       "    </tr>\n",
       "    <tr>\n",
       "      <th>debt</th>\n",
       "      <th colspan=\"2\" halign=\"left\">high</th>\n",
       "      <th colspan=\"2\" halign=\"left\">low</th>\n",
       "      <th>All</th>\n",
       "      <th colspan=\"2\" halign=\"left\">high</th>\n",
       "      <th colspan=\"2\" halign=\"left\">low</th>\n",
       "      <th>All</th>\n",
       "    </tr>\n",
       "    <tr>\n",
       "      <th>sales</th>\n",
       "      <th>high</th>\n",
       "      <th>low</th>\n",
       "      <th>low</th>\n",
       "      <th>medium</th>\n",
       "      <th></th>\n",
       "      <th>high</th>\n",
       "      <th>low</th>\n",
       "      <th>low</th>\n",
       "      <th>medium</th>\n",
       "      <th></th>\n",
       "    </tr>\n",
       "    <tr>\n",
       "      <th>segment</th>\n",
       "      <th></th>\n",
       "      <th></th>\n",
       "      <th></th>\n",
       "      <th></th>\n",
       "      <th></th>\n",
       "      <th></th>\n",
       "      <th></th>\n",
       "      <th></th>\n",
       "      <th></th>\n",
       "      <th></th>\n",
       "    </tr>\n",
       "  </thead>\n",
       "  <tbody>\n",
       "    <tr>\n",
       "      <th>midprime</th>\n",
       "      <td>NaN</td>\n",
       "      <td>NaN</td>\n",
       "      <td>0.0</td>\n",
       "      <td>0.0</td>\n",
       "      <td>0.0</td>\n",
       "      <td>NaN</td>\n",
       "      <td>NaN</td>\n",
       "      <td>5.0</td>\n",
       "      <td>5.0</td>\n",
       "      <td>5.0</td>\n",
       "    </tr>\n",
       "    <tr>\n",
       "      <th>prime</th>\n",
       "      <td>0.0</td>\n",
       "      <td>NaN</td>\n",
       "      <td>NaN</td>\n",
       "      <td>0.0</td>\n",
       "      <td>0.0</td>\n",
       "      <td>3.0</td>\n",
       "      <td>NaN</td>\n",
       "      <td>NaN</td>\n",
       "      <td>4.0</td>\n",
       "      <td>4.0</td>\n",
       "    </tr>\n",
       "    <tr>\n",
       "      <th>subprime</th>\n",
       "      <td>NaN</td>\n",
       "      <td>-1.0</td>\n",
       "      <td>0.0</td>\n",
       "      <td>NaN</td>\n",
       "      <td>0.0</td>\n",
       "      <td>NaN</td>\n",
       "      <td>5.0</td>\n",
       "      <td>6.0</td>\n",
       "      <td>NaN</td>\n",
       "      <td>6.0</td>\n",
       "    </tr>\n",
       "    <tr>\n",
       "      <th>All</th>\n",
       "      <td>0.0</td>\n",
       "      <td>-1.0</td>\n",
       "      <td>0.0</td>\n",
       "      <td>0.0</td>\n",
       "      <td>0.0</td>\n",
       "      <td>3.0</td>\n",
       "      <td>5.0</td>\n",
       "      <td>6.0</td>\n",
       "      <td>5.0</td>\n",
       "      <td>6.0</td>\n",
       "    </tr>\n",
       "  </tbody>\n",
       "</table>\n",
       "</div>"
      ],
      "text/plain": [
       "         loss                       revenue                      \n",
       "debt     high       low         All    high       low         All\n",
       "sales    high  low  low medium         high  low  low medium     \n",
       "segment                                                          \n",
       "midprime  NaN  NaN  0.0    0.0  0.0     NaN  NaN  5.0    5.0  5.0\n",
       "prime     0.0  NaN  NaN    0.0  0.0     3.0  NaN  NaN    4.0  4.0\n",
       "subprime  NaN -1.0  0.0    NaN  0.0     NaN  5.0  6.0    NaN  6.0\n",
       "All       0.0 -1.0  0.0    0.0  0.0     3.0  5.0  6.0    5.0  6.0"
      ]
     },
     "execution_count": 47,
     "metadata": {},
     "output_type": "execute_result"
    }
   ],
   "source": [
    "df.pivot_table(values=['loss','revenue'], index='segment', columns=['debt','sales'], margins=True, aggfunc='max')"
   ]
  },
  {
   "cell_type": "markdown",
   "metadata": {},
   "source": [
    "groupby will yield results in a format similar to proc mean"
   ]
  },
  {
   "cell_type": "code",
   "execution_count": 48,
   "metadata": {
    "collapsed": false,
    "scrolled": false
   },
   "outputs": [
    {
     "data": {
      "text/html": [
       "<div>\n",
       "<table border=\"1\" class=\"dataframe\">\n",
       "  <thead>\n",
       "    <tr style=\"text-align: right;\">\n",
       "      <th></th>\n",
       "      <th></th>\n",
       "      <th></th>\n",
       "      <th>loss</th>\n",
       "      <th>revenue</th>\n",
       "    </tr>\n",
       "    <tr>\n",
       "      <th>segment</th>\n",
       "      <th>debt</th>\n",
       "      <th>sales</th>\n",
       "      <th></th>\n",
       "      <th></th>\n",
       "    </tr>\n",
       "  </thead>\n",
       "  <tbody>\n",
       "    <tr>\n",
       "      <th rowspan=\"2\" valign=\"top\">midprime</th>\n",
       "      <th rowspan=\"2\" valign=\"top\">low</th>\n",
       "      <th>low</th>\n",
       "      <td>0</td>\n",
       "      <td>5</td>\n",
       "    </tr>\n",
       "    <tr>\n",
       "      <th>medium</th>\n",
       "      <td>-2</td>\n",
       "      <td>9</td>\n",
       "    </tr>\n",
       "    <tr>\n",
       "      <th rowspan=\"2\" valign=\"top\">prime</th>\n",
       "      <th>high</th>\n",
       "      <th>high</th>\n",
       "      <td>0</td>\n",
       "      <td>3</td>\n",
       "    </tr>\n",
       "    <tr>\n",
       "      <th>low</th>\n",
       "      <th>medium</th>\n",
       "      <td>0</td>\n",
       "      <td>4</td>\n",
       "    </tr>\n",
       "    <tr>\n",
       "      <th rowspan=\"2\" valign=\"top\">subprime</th>\n",
       "      <th>high</th>\n",
       "      <th>low</th>\n",
       "      <td>-1</td>\n",
       "      <td>5</td>\n",
       "    </tr>\n",
       "    <tr>\n",
       "      <th>low</th>\n",
       "      <th>low</th>\n",
       "      <td>0</td>\n",
       "      <td>6</td>\n",
       "    </tr>\n",
       "  </tbody>\n",
       "</table>\n",
       "</div>"
      ],
      "text/plain": [
       "                      loss  revenue\n",
       "segment  debt sales                \n",
       "midprime low  low        0        5\n",
       "              medium    -2        9\n",
       "prime    high high       0        3\n",
       "         low  medium     0        4\n",
       "subprime high low       -1        5\n",
       "         low  low        0        6"
      ]
     },
     "execution_count": 48,
     "metadata": {},
     "output_type": "execute_result"
    }
   ],
   "source": [
    "df.groupby(['segment','debt', 'sales']).sum()"
   ]
  },
  {
   "cell_type": "markdown",
   "metadata": {},
   "source": [
    "<center><h1>Loading Data</h1></center>\n",
    "\n",
    "\n",
    "&ensp;&ensp;To load  different file formats(.sas7bdat, .csv, xlsx, json,etc.)into dataframes use the .read_sas, .read_csv, .read_excel methods in pandas.\n",
    "\n",
    "&ensp;&ensp;The following code uploads the data from the internet to the computer. This code is just to get the data that will be used in the examples. </span>\n"
   ]
  },
  {
   "cell_type": "code",
   "execution_count": 49,
   "metadata": {
    "collapsed": false
   },
   "outputs": [
    {
     "data": {
      "text/plain": [
       "('/tmp/csv_data.csv', <httplib.HTTPMessage instance at 0x7f98d98f0cf8>)"
      ]
     },
     "execution_count": 49,
     "metadata": {},
     "output_type": "execute_result"
    }
   ],
   "source": [
    "## getting an example of sas7bdat data and csv data. \n",
    "import urllib\n",
    "\n",
    "testfile = urllib.URLopener()\n",
    "testfile.retrieve(\"http://www.principlesofeconometrics.com/sas/hhsurvey.sas7bdat\", \"/tmp/sas_data.sas7bdat\")\n",
    "testfile.retrieve(\"http://samplecsvs.s3.amazonaws.com/Sacramentorealestatetransactions.csv\", \"/tmp/csv_data.csv\")"
   ]
  },
  {
   "cell_type": "markdown",
   "metadata": {},
   "source": [
    "<a class=\"anchor\" id=\"seventh-bullet\"></a>\n",
    "<center><h2> SAS DATA STEP=Pandas read\\_sas "
   ]
  },
  {
   "cell_type": "markdown",
   "metadata": {},
   "source": [
    "**SAS**  "
   ]
  },
  {
   "cell_type": "markdown",
   "metadata": {},
   "source": [
    "    LIBNAME source '/tmp/';\n",
    "    \n",
    "    DATA newdata;\n",
    "      set source.sas_data;\n",
    "    run;"
   ]
  },
  {
   "cell_type": "markdown",
   "metadata": {},
   "source": [
    "**PANDAS**"
   ]
  },
  {
   "cell_type": "markdown",
   "metadata": {},
   "source": [
    "Since the file is sas7bdat format you use the read_sas method. This method also suports XPORT format."
   ]
  },
  {
   "cell_type": "code",
   "execution_count": 50,
   "metadata": {
    "collapsed": true
   },
   "outputs": [],
   "source": [
    "dataframe_from_sas=pd.read_sas( \"/tmp/sas_data.sas7bdat\")"
   ]
  },
  {
   "cell_type": "markdown",
   "metadata": {},
   "source": [
    "in the example above we created a dataframe named \"dataframe_from_sas\" from the sas dataset sas_data located in the tmp directory"
   ]
  },
  {
   "cell_type": "markdown",
   "metadata": {},
   "source": [
    "checking that the data is loaded using the .head() method"
   ]
  },
  {
   "cell_type": "code",
   "execution_count": 51,
   "metadata": {
    "collapsed": false
   },
   "outputs": [
    {
     "data": {
      "text/html": [
       "<div>\n",
       "<table border=\"1\" class=\"dataframe\">\n",
       "  <thead>\n",
       "    <tr style=\"text-align: right;\">\n",
       "      <th></th>\n",
       "      <th>A</th>\n",
       "      <th>ALCOH</th>\n",
       "      <th>FOOD</th>\n",
       "      <th>K</th>\n",
       "      <th>TRPORT</th>\n",
       "      <th>X</th>\n",
       "    </tr>\n",
       "  </thead>\n",
       "  <tbody>\n",
       "    <tr>\n",
       "      <th>0</th>\n",
       "      <td>3.000292</td>\n",
       "      <td>8.99</td>\n",
       "      <td>157.050003</td>\n",
       "      <td>1.831491e-312</td>\n",
       "      <td>80.510002</td>\n",
       "      <td>692.0</td>\n",
       "    </tr>\n",
       "    <tr>\n",
       "      <th>1</th>\n",
       "      <td>2.000292</td>\n",
       "      <td>17.75</td>\n",
       "      <td>70.779999</td>\n",
       "      <td>9.383372e-313</td>\n",
       "      <td>40.720001</td>\n",
       "      <td>272.0</td>\n",
       "    </tr>\n",
       "    <tr>\n",
       "      <th>2</th>\n",
       "      <td>2.000000</td>\n",
       "      <td>2.97</td>\n",
       "      <td>177.199997</td>\n",
       "      <td>1.043441e-312</td>\n",
       "      <td>29.309999</td>\n",
       "      <td>1130.0</td>\n",
       "    </tr>\n",
       "    <tr>\n",
       "      <th>3</th>\n",
       "      <td>2.000000</td>\n",
       "      <td>13.50</td>\n",
       "      <td>75.110001</td>\n",
       "      <td>2.000201e+00</td>\n",
       "      <td>38.110001</td>\n",
       "      <td>535.0</td>\n",
       "    </tr>\n",
       "    <tr>\n",
       "      <th>4</th>\n",
       "      <td>2.000000</td>\n",
       "      <td>47.41</td>\n",
       "      <td>147.889999</td>\n",
       "      <td>9.426619e-313</td>\n",
       "      <td>108.269997</td>\n",
       "      <td>767.0</td>\n",
       "    </tr>\n",
       "  </tbody>\n",
       "</table>\n",
       "</div>"
      ],
      "text/plain": [
       "          A  ALCOH        FOOD              K      TRPORT       X\n",
       "0  3.000292   8.99  157.050003  1.831491e-312   80.510002   692.0\n",
       "1  2.000292  17.75   70.779999  9.383372e-313   40.720001   272.0\n",
       "2  2.000000   2.97  177.199997  1.043441e-312   29.309999  1130.0\n",
       "3  2.000000  13.50   75.110001   2.000201e+00   38.110001   535.0\n",
       "4  2.000000  47.41  147.889999  9.426619e-313  108.269997   767.0"
      ]
     },
     "execution_count": 51,
     "metadata": {},
     "output_type": "execute_result"
    }
   ],
   "source": [
    "dataframe_from_sas.head()"
   ]
  },
  {
   "cell_type": "markdown",
   "metadata": {},
   "source": [
    "<a class=\"anchor\" id=\"eigth-bullet\"></a>\n",
    "<center><h2> SAS PROC IMPORT = Pandas read\\_xxxx  "
   ]
  },
  {
   "cell_type": "markdown",
   "metadata": {},
   "source": [
    "**SAS**"
   ]
  },
  {
   "cell_type": "markdown",
   "metadata": {},
   "source": [
    "    proc import datafile=\"/tmp/csv_data.csv\" out=newdata dbms=csv replace;\n",
    "        getnames=yes;\n",
    "    run;"
   ]
  },
  {
   "cell_type": "markdown",
   "metadata": {},
   "source": [
    "**PANDAS**"
   ]
  },
  {
   "cell_type": "markdown",
   "metadata": {},
   "source": [
    "    pandas can read multiple formats into dataframes. Examples of methods to read data:\n",
    "       read_csv\n",
    "       read_sas\n",
    "       read_excel\n",
    "       read_clipboard\n",
    "       read_stata\n",
    "       read_jstor\n",
    "&ensp;&ensp;&ensp;   To get a complete list of instructions for importing data refer to the <a href=\"http://pandas.pydata.org/pandas-docs/stable/api.html#input-output\">DOCUMENTATION</a>\n",
    "\n",
    "    below is an example with csv data"
   ]
  },
  {
   "cell_type": "code",
   "execution_count": 52,
   "metadata": {
    "collapsed": false
   },
   "outputs": [
    {
     "data": {
      "text/html": [
       "<div>\n",
       "<table border=\"1\" class=\"dataframe\">\n",
       "  <thead>\n",
       "    <tr style=\"text-align: right;\">\n",
       "      <th></th>\n",
       "      <th>street</th>\n",
       "      <th>city</th>\n",
       "      <th>zip</th>\n",
       "      <th>state</th>\n",
       "      <th>beds</th>\n",
       "      <th>baths</th>\n",
       "      <th>sq__ft</th>\n",
       "      <th>type</th>\n",
       "      <th>sale_date</th>\n",
       "      <th>price</th>\n",
       "      <th>latitude</th>\n",
       "      <th>longitude</th>\n",
       "    </tr>\n",
       "  </thead>\n",
       "  <tbody>\n",
       "    <tr>\n",
       "      <th>0</th>\n",
       "      <td>3526 HIGH ST</td>\n",
       "      <td>SACRAMENTO</td>\n",
       "      <td>95838</td>\n",
       "      <td>CA</td>\n",
       "      <td>2</td>\n",
       "      <td>1</td>\n",
       "      <td>836</td>\n",
       "      <td>Residential</td>\n",
       "      <td>Wed May 21 00:00:00 EDT 2008</td>\n",
       "      <td>59222</td>\n",
       "      <td>38.631913</td>\n",
       "      <td>-121.434879</td>\n",
       "    </tr>\n",
       "    <tr>\n",
       "      <th>1</th>\n",
       "      <td>51 OMAHA CT</td>\n",
       "      <td>SACRAMENTO</td>\n",
       "      <td>95823</td>\n",
       "      <td>CA</td>\n",
       "      <td>3</td>\n",
       "      <td>1</td>\n",
       "      <td>1167</td>\n",
       "      <td>Residential</td>\n",
       "      <td>Wed May 21 00:00:00 EDT 2008</td>\n",
       "      <td>68212</td>\n",
       "      <td>38.478902</td>\n",
       "      <td>-121.431028</td>\n",
       "    </tr>\n",
       "    <tr>\n",
       "      <th>2</th>\n",
       "      <td>2796 BRANCH ST</td>\n",
       "      <td>SACRAMENTO</td>\n",
       "      <td>95815</td>\n",
       "      <td>CA</td>\n",
       "      <td>2</td>\n",
       "      <td>1</td>\n",
       "      <td>796</td>\n",
       "      <td>Residential</td>\n",
       "      <td>Wed May 21 00:00:00 EDT 2008</td>\n",
       "      <td>68880</td>\n",
       "      <td>38.618305</td>\n",
       "      <td>-121.443839</td>\n",
       "    </tr>\n",
       "    <tr>\n",
       "      <th>3</th>\n",
       "      <td>2805 JANETTE WAY</td>\n",
       "      <td>SACRAMENTO</td>\n",
       "      <td>95815</td>\n",
       "      <td>CA</td>\n",
       "      <td>2</td>\n",
       "      <td>1</td>\n",
       "      <td>852</td>\n",
       "      <td>Residential</td>\n",
       "      <td>Wed May 21 00:00:00 EDT 2008</td>\n",
       "      <td>69307</td>\n",
       "      <td>38.616835</td>\n",
       "      <td>-121.439146</td>\n",
       "    </tr>\n",
       "    <tr>\n",
       "      <th>4</th>\n",
       "      <td>6001 MCMAHON DR</td>\n",
       "      <td>SACRAMENTO</td>\n",
       "      <td>95824</td>\n",
       "      <td>CA</td>\n",
       "      <td>2</td>\n",
       "      <td>1</td>\n",
       "      <td>797</td>\n",
       "      <td>Residential</td>\n",
       "      <td>Wed May 21 00:00:00 EDT 2008</td>\n",
       "      <td>81900</td>\n",
       "      <td>38.519470</td>\n",
       "      <td>-121.435768</td>\n",
       "    </tr>\n",
       "  </tbody>\n",
       "</table>\n",
       "</div>"
      ],
      "text/plain": [
       "             street        city    zip state  beds  baths  sq__ft  \\\n",
       "0      3526 HIGH ST  SACRAMENTO  95838    CA     2      1     836   \n",
       "1       51 OMAHA CT  SACRAMENTO  95823    CA     3      1    1167   \n",
       "2    2796 BRANCH ST  SACRAMENTO  95815    CA     2      1     796   \n",
       "3  2805 JANETTE WAY  SACRAMENTO  95815    CA     2      1     852   \n",
       "4   6001 MCMAHON DR  SACRAMENTO  95824    CA     2      1     797   \n",
       "\n",
       "          type                     sale_date  price   latitude   longitude  \n",
       "0  Residential  Wed May 21 00:00:00 EDT 2008  59222  38.631913 -121.434879  \n",
       "1  Residential  Wed May 21 00:00:00 EDT 2008  68212  38.478902 -121.431028  \n",
       "2  Residential  Wed May 21 00:00:00 EDT 2008  68880  38.618305 -121.443839  \n",
       "3  Residential  Wed May 21 00:00:00 EDT 2008  69307  38.616835 -121.439146  \n",
       "4  Residential  Wed May 21 00:00:00 EDT 2008  81900  38.519470 -121.435768  "
      ]
     },
     "execution_count": 52,
     "metadata": {},
     "output_type": "execute_result"
    }
   ],
   "source": [
    "## read the data in with read_csv\n",
    "dataframe_from_csv=pd.read_csv(\"/tmp/csv_data.csv\")\n",
    "## view the first rows of data\n",
    "dataframe_from_csv.head()"
   ]
  },
  {
   "cell_type": "markdown",
   "metadata": {
    "collapsed": true
   },
   "source": [
    "<a class=\"anchor\" id=\"ninth-bullet\"></a>\n",
    "<center> <h2> Simple Calculations in SAS and Pandas</h2></center>\n",
    "&ensp;&ensp; \n"
   ]
  },
  {
   "cell_type": "markdown",
   "metadata": {
    "collapsed": true
   },
   "source": [
    "**SAS**"
   ]
  },
  {
   "cell_type": "markdown",
   "metadata": {
    "collapsed": true
   },
   "source": [
    "    DATA sasdat;  \n",
    "    SET df;  \n",
    "        profit= revenue +loss ;\n",
    "    run;"
   ]
  },
  {
   "cell_type": "markdown",
   "metadata": {
    "collapsed": true
   },
   "source": [
    "**PANDAS**  \n",
    "In Pandas you write the calculation by explicitly referring to the column or variable name. There are two ways to refer to a variable:\n",
    "    1. DATAFRAME['variable']\n",
    "    2. DATAFRAME.variable\n",
    "Below is a calculation using the DATAFRAME['variable'] syntax"
   ]
  },
  {
   "cell_type": "code",
   "execution_count": 53,
   "metadata": {
    "collapsed": true
   },
   "outputs": [],
   "source": [
    "df['profit']=df['revenue']+df['loss']"
   ]
  },
  {
   "cell_type": "markdown",
   "metadata": {
    "collapsed": true
   },
   "source": [
    "\n",
    "<a class=\"anchor\" id=\"tenth-bullet\"></a>\n",
    "<center> <h2> if = loc </h2> </center>"
   ]
  },
  {
   "cell_type": "markdown",
   "metadata": {
    "collapsed": true
   },
   "source": [
    "**SAS**"
   ]
  },
  {
   "cell_type": "markdown",
   "metadata": {
    "collapsed": true
   },
   "source": [
    "    data sasdat;\n",
    "    set sasdat;\n",
    "    if profit>5 then size='Big';\n",
    "    run;"
   ]
  },
  {
   "cell_type": "markdown",
   "metadata": {},
   "source": [
    "**PANDAS** \n",
    "   .loc[] functionality is conventionally called an \"indexer\". It allows you to identify rows, or columns. To conditionally create or modify a variable identify what the condition is and set the value. \n",
    "\n",
    "  In the example below we create a variable 'SIZE' and assign it the value 'Big' when the existing variable 'profit' is >5. "
   ]
  },
  {
   "cell_type": "code",
   "execution_count": 54,
   "metadata": {
    "collapsed": false
   },
   "outputs": [],
   "source": [
    "df.loc[df['profit']>5, 'SIZE']='Big'"
   ]
  },
  {
   "cell_type": "markdown",
   "metadata": {
    "collapsed": true
   },
   "source": [
    "<a class=\"anchor\" id=\"eleventh-bullet\"></a>\n",
    "<center><h2> else if = apply"
   ]
  },
  {
   "cell_type": "markdown",
   "metadata": {
    "collapsed": true
   },
   "source": [
    "**SAS**"
   ]
  },
  {
   "cell_type": "markdown",
   "metadata": {},
   "source": [
    "    data sasdat;\n",
    "    set sasdat;\n",
    "    if profit > 5 then size= 'BIG';\n",
    "    else if profit>4 then size = 'MEDIUM';\n",
    "    else size= 'SMALL';\n",
    "    run;"
   ]
  },
  {
   "cell_type": "markdown",
   "metadata": {},
   "source": [
    "**PANDAS**  \n",
    "In Pandas you can write a stand alone function and utilize it via the apply method. Very similar to SAS macro functionality.\n",
    "in the example below you create a function called rankfcn that takes a variable called \"data\". The name is arbitrary. \"data\" is the argument for the Pandas dataframe or dataset. \n",
    "\n",
    "In this function if the variable 'profit' in the data is greater than 5 it returns 'BIG'.\n",
    "\n",
    "In the final line we take the dataframe newdat and create the variable rank by applying the function rankfcn. The assign method's argument \"axis=1\" is used to say apply the fcn on each row."
   ]
  },
  {
   "cell_type": "code",
   "execution_count": 55,
   "metadata": {
    "collapsed": false
   },
   "outputs": [],
   "source": [
    "#create the function to asign rank\n",
    "def rankfcn(data):\n",
    "    if data['profit']>5:\n",
    "        return 'BIG'\n",
    "    elif data['profit']>4:\n",
    "        return 'MEDIUM'\n",
    "    else:\n",
    "        return 'SMALL'\n",
    "    \n",
    "#apply the function to the dataframe newdat. Set axis =1 to apply the function to each row\n",
    "df['rank']=df.apply(rankfcn, axis=1)"
   ]
  },
  {
   "cell_type": "markdown",
   "metadata": {
    "collapsed": true
   },
   "source": [
    "<a class=\"anchor\" id=\"twelth-bullet\"></a>\n",
    "<center><h2>PROC FORMAT = appply"
   ]
  },
  {
   "cell_type": "markdown",
   "metadata": {
    "collapsed": true
   },
   "source": [
    "**SAS**"
   ]
  },
  {
   "cell_type": "markdown",
   "metadata": {},
   "source": [
    "    proc format;\n",
    "    value profitable \n",
    "         LOW   -< 0 = ’Loss’\n",
    "         0 - HIGH   = 'Gain';\n",
    "\n",
    " \n",
    "    data sasdat;\n",
    "    set sasdat;\n",
    "        profitable=input(put(profit,profitable.),2.0);\n",
    "    run;\n"
   ]
  },
  {
   "cell_type": "markdown",
   "metadata": {},
   "source": [
    "**PANDAS**  \n",
    "In this case, the function profitable is being applied to the data set to add another row. "
   ]
  },
  {
   "cell_type": "code",
   "execution_count": 56,
   "metadata": {
    "collapsed": false
   },
   "outputs": [],
   "source": [
    "def profitable(x):\n",
    "    if x['profit']<0:\n",
    "        return 'Loss'\n",
    "    else:\n",
    "        return 'Gain'\n",
    "\n",
    "df['profitable']=df.apply(profitable, axis=1)"
   ]
  },
  {
   "cell_type": "markdown",
   "metadata": {},
   "source": [
    "You can always apply it to a row to get new values without saving the values "
   ]
  },
  {
   "cell_type": "code",
   "execution_count": 57,
   "metadata": {
    "collapsed": false
   },
   "outputs": [
    {
     "data": {
      "text/plain": [
       "0    Gain\n",
       "1    Gain\n",
       "2    Gain\n",
       "3    Gain\n",
       "4    Gain\n",
       "5    Gain\n",
       "6    Gain\n",
       "dtype: object"
      ]
     },
     "metadata": {},
     "output_type": "display_data"
    }
   ],
   "source": [
    "display(df.apply(profitable, axis=1))"
   ]
  },
  {
   "cell_type": "markdown",
   "metadata": {},
   "source": [
    "<a class=\"anchor\" id=\"thirteenth-bullet\"></a>\n",
    "<center><h2>PROC EXPORT = to_xxxx"
   ]
  },
  {
   "cell_type": "markdown",
   "metadata": {},
   "source": [
    "**SAS**"
   ]
  },
  {
   "cell_type": "markdown",
   "metadata": {},
   "source": [
    "    proc export \n",
    "      data=sasdat\n",
    "      dbms=xlsx \n",
    "      outfile=\"c:\\temp\\excel_data.xlsx\" \n",
    "      replace;\n",
    "    run;"
   ]
  },
  {
   "cell_type": "markdown",
   "metadata": {},
   "source": [
    "**PANDAS**  \n",
    "Using the to_excel method dataframe \"df\" is saved as an excel spreadsheet called \"excel_data\" to the directory tmp. "
   ]
  },
  {
   "cell_type": "code",
   "execution_count": 58,
   "metadata": {
    "collapsed": true
   },
   "outputs": [],
   "source": [
    "df.to_excel(\"/tmp/excel_data.xlsx\",index=False)"
   ]
  },
  {
   "cell_type": "markdown",
   "metadata": {},
   "source": [
    "    You can write to many formats:\n",
    "     to_csv\n",
    "     to_excel\n",
    "     to_hdf\n",
    "     to_sql\n",
    "     to_json\n",
    "     to_html\n",
    "     to_stata\n",
    "     to_clipboard\n",
    "     to_pickle"
   ]
  }
 ],
 "metadata": {
  "kernelspec": {
   "display_name": "Python 2",
   "language": "python",
   "name": "python2"
  },
  "language_info": {
   "codemirror_mode": {
    "name": "ipython",
    "version": 2
   },
   "file_extension": ".py",
   "mimetype": "text/x-python",
   "name": "python",
   "nbconvert_exporter": "python",
   "pygments_lexer": "ipython2",
   "version": "2.7.12"
  }
 },
 "nbformat": 4,
 "nbformat_minor": 0
}
